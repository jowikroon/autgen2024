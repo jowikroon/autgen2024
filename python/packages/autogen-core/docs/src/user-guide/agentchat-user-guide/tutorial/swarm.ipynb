{
 "cells": [
  {
   "cell_type": "markdown",
   "metadata": {},
   "source": [
    "# Swarm"
   ]
  },
  {
   "cell_type": "markdown",
   "metadata": {},
   "source": [
    "The `Swarm` pattern implements a team coordination approach where agents can dynamically hand off conversations to other agents based on their capabilities and the current context. This enables flexible multi-agent interactions driven by the agents' own decision-making rather than a central coordinator.\n",
    "\n",
    "`Swarm` provides several key features:\n",
    "- Dynamic handoffs between agents based on their capabilities \n",
    "- Customizable termination conditions\n",
    "\n",
    "### Handoff Process\n",
    "\n",
    "The swarm uses a handoff mechanism where:\n",
    "1. Each agent defines which other agents it can hand off to\n",
    "2. Agents make autonomous decisions about when to hand off\n",
    "3. The receiving agent takes over the conversation context\n",
    "4. The process continues until a termination condition is met\n"
   ]
  },
  {
   "cell_type": "markdown",
   "metadata": {},
   "source": []
  },
  {
   "cell_type": "code",
   "execution_count": 1,
   "metadata": {},
   "outputs": [],
   "source": [
    "import asyncio\n",
    "\n",
    "from autogen_agentchat.agents import AssistantAgent\n",
    "from autogen_agentchat.messages import TextMessage\n",
    "from autogen_agentchat.task import HandoffTermination, TextMentionTermination\n",
    "from autogen_agentchat.teams import Swarm\n",
    "from autogen_ext.models import OpenAIChatCompletionClient"
   ]
  },
  {
   "cell_type": "markdown",
   "metadata": {},
   "source": [
    "## Defining Agents\n",
    "\n",
    "The example implements a travel booking scenario with two agents:\n",
    "\n",
    "1. Travel Agent - Handles general travel planning and coordination\n",
    "2. Flights Refunder - Specializes in processing flight refunds  \n",
    "\n",
    "Additionally, we let the user interact with the agents, when agents handoff to the user.\n",
    "\n",
    "Each agent is configured with:\n",
    "- A name and description\n",
    "- Allowed handoff targets\n",
    "- Optional tools and capabilities\n",
    "- System instructions defining their role"
   ]
  },
  {
   "cell_type": "code",
   "execution_count": 2,
   "metadata": {},
   "outputs": [],
   "source": [
    "model_client = OpenAIChatCompletionClient(\n",
    "    model=\"gpt-4o\",\n",
    ")\n",
    "\n",
    "def refund_flight(flight_id: str) -> str:\n",
    "    \"\"\"Refund a flight\"\"\"\n",
    "    return f\"Flight {flight_id} refunded\"\n",
    "\n",
    "travel_agent = AssistantAgent(\n",
    "    \"travel_agent\",\n",
    "    model_client=model_client,\n",
    "    handoffs=[\"user\", \"flights_refunder\"],\n",
    "    system_message=\"\"\"You are a travel agent. \n",
    "    You can get information from the user. Always send your message first, then you can handoff to the user.\n",
    "    The flight refunder is in charge of refunding flights.\n",
    "    Use TERMINATE when the travel planning is complete.\"\"\",\n",
    ")\n",
    "\n",
    "flights_refunder = AssistantAgent(\n",
    "    \"flights_refunder\",\n",
    "    model_client=model_client,\n",
    "    handoffs=[\"travel_agent\", \"user\"],\n",
    "    tools=[refund_flight],\n",
    "    system_message=\"\"\"You are an agent specialized in refunding flights.\n",
    "    You can get information from the user. Always send your message first, then you can handoff to the user.\n",
    "    You only need flight reference numbers to refund a flight.\n",
    "    When the transaction is complete, handoff to the travel agent to finalize.\"\"\",\n",
    ")"
   ]
  },
  {
   "cell_type": "code",
   "execution_count": 3,
   "metadata": {},
   "outputs": [],
   "source": [
    "handoff_termination = HandoffTermination(target=\"user\")\n",
    "text_termination = TextMentionTermination(\"TERMINATE\")\n",
    "termination = handoff_termination | text_termination\n",
    "\n",
    "travel_team = Swarm(\n",
    "    participants=[travel_agent, flights_refunder],\n",
    "    termination_condition=termination\n",
    ")"
   ]
  },
  {
   "cell_type": "code",
   "execution_count": 6,
   "metadata": {},
   "outputs": [
    {
     "name": "stdout",
     "output_type": "stream",
     "text": [
      "user: Help me refund my flight.\n",
      "flights_refunder: Sure, I can help with that. Could you please provide your flight reference number?\n",
      "flights_refunder: I am here to assist you with your flight refund. Can you please provide me with your flight reference number?\n",
      "flights_refunder: I can help you with that. Could you please provide me with your flight reference number?\n",
      "user: 982351\n",
      "flights_refunder: Your flight with reference number 982351 has been successfully refunded. If there's anything else you need, feel free to ask!\n",
      "travel_agent: Your flight refund with reference number 982351 has been successfully processed. If there's anything else you need assistance with, feel free to let me know!\n",
      "travel_agent: If you have any more travel-related needs or questions, feel free to reach out. Have a great day!\n",
      "user: No\n",
      "travel_agent: Great! If you need any more assistance in the future, feel free to reach out. Safe travels!\n",
      "user: \n",
      "travel_agent: Thank you! Have a great day!\n",
      "travel_agent: TERMINATE\n"
     ]
    }
   ],
   "source": [
    "# Initial task\n",
    "task = \"Help me refund my flight.\"\n",
    "\n",
    "while True:\n",
    "    # Run the swarm until it stops\n",
    "    async for result in travel_team.run_stream(task=task):\n",
    "        if isinstance(result, TextMessage):\n",
    "            print(f\"{result.source}: {result.content}\")\n",
    "    \n",
    "    # Check if terminated normally\n",
    "    if \"TERMINATE\" in result.stop_reason:\n",
    "        break\n",
    "        \n",
    "    if \"Handoff\" in result.stop_reason:\n",
    "        # Get the last message to see which agent requested input\n",
    "        last_message = result.messages[-1]\n",
    "        requesting_agent = last_message.source\n",
    "        \n",
    "        user_input = input(\"\\nUser: \")\n",
    "        \n",
    "        # Continue with user input as the new taskk\n",
    "        task = user_input\n",
    "        continue\n"
   ]
  },
  {
   "cell_type": "code",
   "execution_count": null,
   "metadata": {},
   "outputs": [],
   "source": []
  }
 ],
 "metadata": {
  "kernelspec": {
   "display_name": "autogen",
   "language": "python",
   "name": "python3"
  },
  "language_info": {
   "codemirror_mode": {
    "name": "ipython",
    "version": 3
   },
   "file_extension": ".py",
   "mimetype": "text/x-python",
   "name": "python",
   "nbconvert_exporter": "python",
   "pygments_lexer": "ipython3",
   "version": "3.12.4"
  }
 },
 "nbformat": 4,
 "nbformat_minor": 2
}
